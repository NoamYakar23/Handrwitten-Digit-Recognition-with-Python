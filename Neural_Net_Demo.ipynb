{
  "nbformat": 4,
  "nbformat_minor": 0,
  "metadata": {
    "colab": {
      "name": "Neural Net Demo",
      "provenance": [],
      "include_colab_link": true
    },
    "kernelspec": {
      "name": "python3",
      "display_name": "Python 3"
    },
    "language_info": {
      "name": "python"
    }
  },
  "cells": [
    {
      "cell_type": "markdown",
      "metadata": {
        "id": "view-in-github",
        "colab_type": "text"
      },
      "source": [
        "<a href=\"https://colab.research.google.com/github/NoamYakarOfficial/Handrwitten-Digit-Recognition-with-Python/blob/main/Neural_Net_Demo.ipynb\" target=\"_parent\"><img src=\"https://colab.research.google.com/assets/colab-badge.svg\" alt=\"Open In Colab\"/></a>"
      ]
    },
    {
      "cell_type": "markdown",
      "metadata": {
        "id": "ZlZxFsWlH07M"
      },
      "source": [
        "Importing the MNIST Dataset!"
      ]
    },
    {
      "cell_type": "code",
      "metadata": {
        "id": "lLpRjb1FF7X7"
      },
      "source": [
        "from keras.datasets import mnist"
      ],
      "execution_count": 28,
      "outputs": []
    },
    {
      "cell_type": "code",
      "metadata": {
        "id": "eZqsYRGtHFVZ"
      },
      "source": [
        "#loading in our data and setting the data to unique variables we can later access\n",
        "(x_train, y_train), (x_test, y_test) = mnist.load_data()\n"
      ],
      "execution_count": 29,
      "outputs": []
    },
    {
      "cell_type": "code",
      "metadata": {
        "colab": {
          "base_uri": "https://localhost:8080/"
        },
        "id": "gR0iWL2PHVk5",
        "outputId": "2fab0118-0903-42cb-d397-5bad25029305"
      },
      "source": [
        "#let's look at the dimensions of our inputs and our expected outputs\n",
        "print(\"Number of training images: \" + str(x_train.shape[0]))\n",
        "print(\"Number of testing images: \" + str(x_test.shape[0]))\n",
        "\n",
        "print(\"Image Dimensions: \" + str((x_train.shape[1], x_train.shape[2])))"
      ],
      "execution_count": 30,
      "outputs": [
        {
          "output_type": "stream",
          "name": "stdout",
          "text": [
            "Number of training images: 60000\n",
            "Number of testing images: 10000\n",
            "Image Dimensions: (28, 28)\n"
          ]
        }
      ]
    },
    {
      "cell_type": "code",
      "metadata": {
        "colab": {
          "base_uri": "https://localhost:8080/",
          "height": 282
        },
        "id": "jobkQ_30JUl6",
        "outputId": "a2dcc916-a16d-49c9-e51e-83f7ebd7cf35"
      },
      "source": [
        "#let's plot the first entry in the mnist dataset!\n",
        "import matplotlib.pyplot as plt\n",
        "plt.imshow(x_train[0])"
      ],
      "execution_count": 31,
      "outputs": [
        {
          "output_type": "execute_result",
          "data": {
            "text/plain": [
              "<matplotlib.image.AxesImage at 0x7fb89709fed0>"
            ]
          },
          "metadata": {},
          "execution_count": 31
        },
        {
          "output_type": "display_data",
          "data": {
            "image/png": "[encoded data removed]",
            "text/plain": [
              "<Figure size 432x288 with 1 Axes>"
            ]
          },
          "metadata": {
            "needs_background": "light"
          }
        }
      ]
    },
    {
      "cell_type": "code",
      "metadata": {
        "colab": {
          "base_uri": "https://localhost:8080/",
          "height": 1000
        },
        "id": "sC02PNKzJr3g",
        "outputId": "a4c6fb2e-fc3a-4924-c9ed-27d3f13b7f42"
      },
      "source": [
        "#what if we tried outputing only nunbers with a specific label, we want to see the variety in how some numbers are written!\n",
        "numOfImagesDisplayed = 0\n",
        "for i in range(1000):\n",
        "  if y_train[i] == 3:\n",
        "    numOfImagesDisplayed += 1\n",
        "    if numOfImagesDisplayed == 10:\n",
        "      break\n",
        "\n",
        "    plt.imshow(x_train[i])\n",
        "    plt.show()\n",
        "  else:\n",
        "    continue"
      ],
      "execution_count": 32,
      "outputs": [
        {
          "output_type": "display_data",
          "data": {
            "image/png": "[encoded data removed]",
            "text/plain": [
              "<Figure size 432x288 with 1 Axes>"
            ]
          },
          "metadata": {
            "needs_background": "light"
          }
        },
        {
          "output_type": "display_data",
          "data": {
            "image/png": "[encoded data removed]",
            "text/plain": [
              "<Figure size 432x288 with 1 Axes>"
            ]
          },
          "metadata": {
            "needs_background": "light"
          }
        },
        {
          "output_type": "display_data",
          "data": {
            "image/png": "[encoded data removed]",
            "text/plain": [
              "<Figure size 432x288 with 1 Axes>"
            ]
          },
          "metadata": {
            "needs_background": "light"
          }
        },
        {
          "output_type": "display_data",
          "data": {
            "image/png": "[encoded data removed]",
            "text/plain": [
              "<Figure size 432x288 with 1 Axes>"
            ]
          },
          "metadata": {
            "needs_background": "light"
          }
        },
        {
          "output_type": "display_data",
          "data": {
            "image/png": "[encoded data removed]",
            "text/plain": [
              "<Figure size 432x288 with 1 Axes>"
            ]
          },
          "metadata": {
            "needs_background": "light"
          }
        },
        {
          "output_type": "display_data",
          "data": {
            "image/png": "[encoded data removed]",
            "text/plain": [
              "<Figure size 432x288 with 1 Axes>"
            ]
          },
          "metadata": {
            "needs_background": "light"
          }
        },
        {
          "output_type": "display_data",
          "data": {
            "image/png": "[encoded data removed]",
            "text/plain": [
              "<Figure size 432x288 with 1 Axes>"
            ]
          },
          "metadata": {
            "needs_background": "light"
          }
        },
        {
          "output_type": "display_data",
          "data": {
            "image/png": "[encoded data removed]",
            "text/plain": [
              "<Figure size 432x288 with 1 Axes>"
            ]
          },
          "metadata": {
            "needs_background": "light"
          }
        },
        {
          "output_type": "display_data",
          "data": {
            "image/png": "[encoded data removed]",
            "text/plain": [
              "<Figure size 432x288 with 1 Axes>"
            ]
          },
          "metadata": {
            "needs_background": "light"
          }
        }
      ]
    },
    {
      "cell_type": "markdown",
      "metadata": {
        "id": "mDnOxr9SXnnW"
      },
      "source": [
        "Normalize Pixel Data"
      ]
    },
    {
      "cell_type": "code",
      "metadata": {
        "colab": {
          "base_uri": "https://localhost:8080/",
          "height": 282
        },
        "id": "4_-OixCxXp7d",
        "outputId": "f5f6486f-1a9f-4b8f-c827-4f61e3f3de9c"
      },
      "source": [
        "#we need to normalize our data, shrinking pixel values from  0 - 255 to 0 - 1.\n",
        "#This is because our input layer expects neruon values to be passed in, which are between 0 and 1\n",
        "x_train = x_train / 255 \n",
        "x_test = x_test / 255\n",
        "plt.imshow(x_train[0])"
      ],
      "execution_count": 33,
      "outputs": [
        {
          "output_type": "execute_result",
          "data": {
            "text/plain": [
              "<matplotlib.image.AxesImage at 0x7fb896d08550>"
            ]
          },
          "metadata": {},
          "execution_count": 33
        },
        {
          "output_type": "display_data",
          "data": {
            "image/png": "[encoded data removed]",
            "text/plain": [
              "<Figure size 432x288 with 1 Axes>"
            ]
          },
          "metadata": {
            "needs_background": "light"
          }
        }
      ]
    },
    {
      "cell_type": "markdown",
      "metadata": {
        "id": "Moj_mgXwXqQ_"
      },
      "source": [
        "Creating our Neural Network"
      ]
    },
    {
      "cell_type": "code",
      "metadata": {
        "colab": {
          "base_uri": "https://localhost:8080/"
        },
        "id": "LRmJ_wEvSHTk",
        "outputId": "8044b892-160e-4476-bbf0-7ec9b49051cc"
      },
      "source": [
        "import tensorflow as tf\n",
        "\n",
        "#building neural network to deal with our images!\n",
        "neural_net = tf.keras.Sequential()\n",
        "\n",
        "#This is our input layer. We chose 28x28 because it seems like a common sense way of giving a 28x28 pixel image to a neural net.\n",
        "#Other input schemes can be used, as long as all of the information is passed in one way or the other\n",
        "neural_net.add(tf.keras.layers.Flatten(input_shape=(28,28)))\n",
        "\n",
        "#These are our \"hidden layers\". They're called hideen because we don't necessarily know what each layer is doing;\n",
        "#we architected this network based on which arch. gets the lowest error/highest accuracy. We can create explanations for what\n",
        "#they might be doing, like breaking a digit up into different shapes, but we don't actually know what each individual neuron,\n",
        "#or even what each layer is doing. This particular configuration is highly influenced by the results of trial and error.\n",
        "neural_net.add(tf.keras.layers.Dense(16, activation='relu'))\n",
        "neural_net.add(tf.keras.layers.Dense(16, activation='relu'))\n",
        "\n",
        "#This is where it all comes together; our output layer. You can read up about softmax if you wish, but you don't really need to know it\n",
        "#just yet. All that needs to be taken away from the following line is that at the end of the day, our inputs all come out to 10 outputs,\n",
        "#which is what we think the image has inside of it. If we were classifying even more characters, we could expand this to 26 for the alphabet,\n",
        "#or 26 for every letter and number!\n",
        "neural_net.add(tf.keras.layers.Dense(10, activation='softmax'))\n",
        "neural_net.summary()"
      ],
      "execution_count": 34,
      "outputs": [
        {
          "output_type": "stream",
          "name": "stdout",
          "text": [
            "Model: \"sequential_2\"\n",
            "_________________________________________________________________\n",
            " Layer (type)                Output Shape              Param #   \n",
            "=================================================================\n",
            " flatten_2 (Flatten)         (None, 784)               0         \n",
            "                                                                 \n",
            " dense_6 (Dense)             (None, 16)                12560     \n",
            "                                                                 \n",
            " dense_7 (Dense)             (None, 16)                272       \n",
            "                                                                 \n",
            " dense_8 (Dense)             (None, 10)                170       \n",
            "                                                                 \n",
            "=================================================================\n",
            "Total params: 13,002\n",
            "Trainable params: 13,002\n",
            "Non-trainable params: 0\n",
            "_________________________________________________________________\n"
          ]
        }
      ]
    },
    {
      "cell_type": "code",
      "metadata": {
        "colab": {
          "base_uri": "https://localhost:8080/"
        },
        "id": "GtqOxF0_x_Pg",
        "outputId": "6c662f55-720c-4b82-e7f4-1df073928f6d"
      },
      "source": [
        "\n",
        "neural_net.compile('adam',loss='categorical_crossentropy',metrics=['accuracy'])\n",
        "num_classes = 10\n",
        "y_train = tf.keras.utils.to_categorical(y_train, num_classes=num_classes)\n",
        "y_test = tf.keras.utils.to_categorical(y_test, num_classes=num_classes)\n",
        "\n",
        "model_history = neural_net.fit(x_train,y_train, validation_split=0.2, batch_size=32, epochs=10)"
      ],
      "execution_count": 36,
      "outputs": [
        {
          "output_type": "stream",
          "name": "stdout",
          "text": [
            "Epoch 1/10\n",
            "1500/1500 [==============================] - 4s 3ms/step - loss: 0.4995 - accuracy: 0.8535 - val_loss: 0.2647 - val_accuracy: 0.9242\n",
            "Epoch 2/10\n",
            "1500/1500 [==============================] - 3s 2ms/step - loss: 0.2533 - accuracy: 0.9274 - val_loss: 0.2326 - val_accuracy: 0.9336\n",
            "Epoch 3/10\n",
            "1500/1500 [==============================] - 3s 2ms/step - loss: 0.2147 - accuracy: 0.9393 - val_loss: 0.2163 - val_accuracy: 0.9397\n",
            "Epoch 4/10\n",
            "1500/1500 [==============================] - 3s 2ms/step - loss: 0.1916 - accuracy: 0.9452 - val_loss: 0.2066 - val_accuracy: 0.9431\n",
            "Epoch 5/10\n",
            "1500/1500 [==============================] - 3s 2ms/step - loss: 0.1747 - accuracy: 0.9491 - val_loss: 0.1959 - val_accuracy: 0.9468\n",
            "Epoch 6/10\n",
            "1500/1500 [==============================] - 3s 2ms/step - loss: 0.1637 - accuracy: 0.9526 - val_loss: 0.1835 - val_accuracy: 0.9496\n",
            "Epoch 7/10\n",
            "1500/1500 [==============================] - 3s 2ms/step - loss: 0.1533 - accuracy: 0.9549 - val_loss: 0.1980 - val_accuracy: 0.9466\n",
            "Epoch 8/10\n",
            "1500/1500 [==============================] - 3s 2ms/step - loss: 0.1445 - accuracy: 0.9577 - val_loss: 0.1738 - val_accuracy: 0.9524\n",
            "Epoch 9/10\n",
            "1500/1500 [==============================] - 3s 2ms/step - loss: 0.1367 - accuracy: 0.9602 - val_loss: 0.1751 - val_accuracy: 0.9546\n",
            "Epoch 10/10\n",
            "1500/1500 [==============================] - 4s 2ms/step - loss: 0.1303 - accuracy: 0.9611 - val_loss: 0.1777 - val_accuracy: 0.9509\n"
          ]
        }
      ]
    },
    {
      "cell_type": "code",
      "metadata": {
        "id": "B6jKK_X1yS4M",
        "colab": {
          "base_uri": "https://localhost:8080/"
        },
        "outputId": "a7c92266-1925-4dd9-b170-20e6c600fb02"
      },
      "source": [
        "print(model_history.history.keys())"
      ],
      "execution_count": 37,
      "outputs": [
        {
          "output_type": "stream",
          "name": "stdout",
          "text": [
            "dict_keys(['loss', 'accuracy', 'val_loss', 'val_accuracy'])\n"
          ]
        }
      ]
    },
    {
      "cell_type": "code",
      "metadata": {
        "id": "JlvfZkboSggZ",
        "colab": {
          "base_uri": "https://localhost:8080/",
          "height": 541
        },
        "outputId": "7dc754fc-4d1c-416e-d57f-cf116cf7f9e3"
      },
      "source": [
        "plt.plot(model_history.history['accuracy'])\n",
        "plt.plot(model_history.history['val_accuracy'])\n",
        "plt.xlabel('epoch')\n",
        "plt.ylabel('accuracy')\n",
        "plt.show()\n",
        "\n",
        "\n",
        "plt.plot(model_history.history['loss'])\n",
        "plt.plot(model_history.history['val_loss'])\n",
        "plt.xlabel('epoch')\n",
        "plt.ylabel('loss')\n",
        "plt.show()"
      ],
      "execution_count": 41,
      "outputs": [
        {
          "output_type": "display_data",
          "data": {
            "image/png": "[encoded data removed]",
            "text/plain": [
              "<Figure size 432x288 with 1 Axes>"
            ]
          },
          "metadata": {
            "needs_background": "light"
          }
        },
        {
          "output_type": "display_data",
          "data": {
            "image/png": "[encoded data removed]",
            "text/plain": [
              "<Figure size 432x288 with 1 Axes>"
            ]
          },
          "metadata": {
            "needs_background": "light"
          }
        }
      ]
    },
    {
      "cell_type": "code",
      "metadata": {
        "id": "hHsUzpStWMoz",
        "colab": {
          "base_uri": "https://localhost:8080/",
          "height": 300
        },
        "outputId": "ea3d7375-53f3-458a-c9b9-cfd4e3fc77f2"
      },
      "source": [
        "import random as rand\n",
        "randomInt = rand.randint(1, 10000)\n",
        "print(randomInt)\n",
        "\n",
        "plt.imshow(x_test[randomInt])"
      ],
      "execution_count": 89,
      "outputs": [
        {
          "output_type": "stream",
          "name": "stdout",
          "text": [
            "1919\n"
          ]
        },
        {
          "output_type": "execute_result",
          "data": {
            "text/plain": [
              "<matplotlib.image.AxesImage at 0x7fb896adcb10>"
            ]
          },
          "metadata": {},
          "execution_count": 89
        },
        {
          "output_type": "display_data",
          "data": {
            "image/png": "[encoded data removed]",
            "text/plain": [
              "<Figure size 432x288 with 1 Axes>"
            ]
          },
          "metadata": {
            "needs_background": "light"
          }
        }
      ]
    },
    {
      "cell_type": "code",
      "metadata": {
        "id": "MZN5BCvkd8pQ",
        "outputId": "35be5786-83c9-403a-f620-2a6f0c8676a4",
        "colab": {
          "base_uri": "https://localhost:8080/"
        }
      },
      "source": [
        "print(x_test[randomInt].shape)"
      ],
      "execution_count": 90,
      "outputs": [
        {
          "output_type": "stream",
          "name": "stdout",
          "text": [
            "(28, 28)\n"
          ]
        }
      ]
    },
    {
      "cell_type": "code",
      "metadata": {
        "id": "p9R-_v-2epDO"
      },
      "source": [
        "input = x_test[randomInt].reshape((-1,784))"
      ],
      "execution_count": 91,
      "outputs": []
    },
    {
      "cell_type": "code",
      "metadata": {
        "id": "_uZmRAZWfAVK",
        "outputId": "358be9a3-28df-4f07-b3f8-49c3642e9461",
        "colab": {
          "base_uri": "https://localhost:8080/"
        }
      },
      "source": [
        "output_prediction = neural_net.predict(input)\n",
        "output_prediction"
      ],
      "execution_count": 92,
      "outputs": [
        {
          "output_type": "execute_result",
          "data": {
            "text/plain": [
              "array([[1.3636780e-08, 1.1231959e-07, 4.2463926e-06, 1.9970986e-04,\n",
              "        4.5649141e-11, 5.8658809e-08, 2.5434869e-11, 9.9979526e-01,\n",
              "        2.8985578e-09, 6.0566367e-07]], dtype=float32)"
            ]
          },
          "metadata": {},
          "execution_count": 92
        }
      ]
    },
    {
      "cell_type": "code",
      "metadata": {
        "id": "uoNkQtBTfVkB",
        "outputId": "eb114e43-0561-4b03-ad11-06a014dc011b",
        "colab": {
          "base_uri": "https://localhost:8080/"
        }
      },
      "source": [
        "import numpy as np\n",
        "predicted_val = np.argmax(output_prediction)\n",
        "predicted_val"
      ],
      "execution_count": 93,
      "outputs": [
        {
          "output_type": "execute_result",
          "data": {
            "text/plain": [
              "7"
            ]
          },
          "metadata": {},
          "execution_count": 93
        }
      ]
    },
    {
      "cell_type": "code",
      "metadata": {
        "id": "Vl6fyvk9f9Gs",
        "outputId": "5dc17129-d97d-43e7-912d-999278b64403",
        "colab": {
          "base_uri": "https://localhost:8080/",
          "height": 298
        }
      },
      "source": [
        "plt.imshow(x_test[randomInt])\n",
        "plt.title(\"The predicted class: \" + str(predicted_val))"
      ],
      "execution_count": 94,
      "outputs": [
        {
          "output_type": "execute_result",
          "data": {
            "text/plain": [
              "Text(0.5, 1.0, 'The predicted class: 7')"
            ]
          },
          "metadata": {},
          "execution_count": 94
        },
        {
          "output_type": "display_data",
          "data": {
            "image/png": "[encoded data removed]",
            "text/plain": [
              "<Figure size 432x288 with 1 Axes>"
            ]
          },
          "metadata": {
            "needs_background": "light"
          }
        }
      ]
    },
    {
      "cell_type": "code",
      "metadata": {
        "id": "bJLotQu0gmUo"
      },
      "source": [
        ""
      ],
      "execution_count": null,
      "outputs": []
    }
  ]
}